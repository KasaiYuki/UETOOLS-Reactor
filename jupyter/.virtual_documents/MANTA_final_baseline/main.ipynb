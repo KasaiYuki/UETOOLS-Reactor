import os
import sys
import numpy as np
import matplotlib.pyplot as plt
from uedge import *
from uedge.hdf5 import *
#import plotmesh as pm
from uetools import Case
from uedge.gridue import write_gridue
from Forthon import gchange





#c = Case('v9_te1000_pi900_n2e20_imp0_last_ii2.hdf5') IGNORE
#c = Case('reconverged_v12_p3.93_n2.38_imp8.25e3_dp0.06_kep0.06_kip0.06_last_ii2.hdf5')
c = Case('input_v12_dif.yaml')
print("dif_use, kye_use, kyi_use around SOL:", bbb.dif_use[28, :, 0][1], bbb.kye_use[28, :][1], bbb.kyi_use[28, :][1])
#if bbb.dif_use[30, :, 0][1] == c_dif and bbb.kye_use[30, :][1] == c_kye and bbb.kyi_use[30, :][1] == c_kyi:
   # pass
#else:
    #print(f'Diffusivities or chi values not matching!', file=sys.stderr)


bbb.GridFileName = 'gridmorph2/SUCCESS.hdf5'


c.populate()
print("dif_use, kye_use, kyi_use around SOL:", bbb.dif_use[30, :, 0][1], bbb.kye_use[30, :][1], bbb.kyi_use[30, :][1])


c_dif = 0.06
c_kye = 0.06
c_kyi = 0.06

prof_d = [0.06, 0.059, 0.058, 0.057, 0.056, 0.055, 0.054, 0.053, 0.052, 0.051, 
 0.05, 0.049, 0.048, 0.047, 0.046, 0.045, 0.044, 0.043, 0.042, 0.041, 
 0.04, 0.039, 0.038, 0.037, 0.036, 0.035, 0.034, 0.033, 0.032, 0.031, 
 0.03, 0.029, 0.028, 0.027, 0.026, 0.025, 0.024, 0.023, 0.022, 0.021, 
 0.02, 0.019, 0.018, 0.017, 0.016, 0.015]
prof_e = [0.06, 0.059, 0.058, 0.057, 0.056, 0.055, 0.054, 0.053, 0.052, 0.051, 
 0.05, 0.049, 0.048, 0.047, 0.046, 0.045, 0.044, 0.043, 0.042, 0.041, 
 0.04, 0.039, 0.038, 0.037, 0.036, 0.035, 0.034, 0.033, 0.032, 0.031, 
 0.03, 0.029, 0.028, 0.027, 0.026, 0.025, 0.024, 0.023, 0.022, 0.021, 
 0.02, 0.019, 0.018, 0.017, 0.016, 0.015]
prof_i = [0.06, 0.059, 0.058, 0.057, 0.056, 0.055, 0.054, 0.053, 0.052, 0.051, 
 0.05, 0.049, 0.048, 0.047, 0.046, 0.045, 0.044, 0.043, 0.042, 0.041, 
 0.04, 0.039, 0.038, 0.037, 0.036, 0.035, 0.034, 0.033, 0.032, 0.031, 
 0.03, 0.029, 0.028, 0.027, 0.026, 0.025, 0.024, 0.023, 0.022, 0.021, 
 0.02, 0.019, 0.018, 0.017, 0.016, 0.015]
prof_i2 = [0.05, 0.049, 0.048, 0.047, 0.046, 0.045, 0.044, 0.043, 0.042, 0.041, 
 0.04, 0.039, 0.038, 0.037, 0.036, 0.035, 0.034, 0.033, 0.032, 0.031, 
 0.03, 0.029, 0.028, 0.027, 0.026, 0.025, 0.024, 0.023, 0.022, 0.021, 
 0.02, 0.019, 0.018, 0.017, 0.016, 0.015, 0.014, 0.013, 0.012, 0.011, 
 0.01, 0.009, 0.008, 0.007, 0.006, 0.005]

#divertor region temporary for plotting, reset to 0.5 at the end of cell
bbb.dif_use[1:17, :, 0] = c_dif
bbb.dif_use[41:65, :, 0] = c_dif
bbb.kye_use[1:17, :] = c_kye
bbb.kye_use[41:65, :] = c_kye
bbb.kyi_use[1:17, :] = c_kyi
bbb.kyi_use[41:65, :] = c_kyi

bbb.dif_use[30,:,0] = prof_d
bbb.dif_use[29,:,0] = prof_d
bbb.dif_use[28,:,0] = prof_d
bbb.dif_use[27,:,0] = prof_d
bbb.dif_use[26,:,0] = prof_d
bbb.dif_use[25,:,0] = prof_d
bbb.dif_use[24,:,0] = prof_d
bbb.dif_use[23,:,0] = prof_d
bbb.dif_use[22,:,0] = prof_d
bbb.dif_use[21,:,0] = prof_d
bbb.dif_use[20,:,0] = prof_d
bbb.dif_use[19,:,0] = prof_d
bbb.dif_use[18,:,0] = prof_d
bbb.dif_use[17,:,0] = prof_d
bbb.dif_use[31,:,0] = prof_d
bbb.dif_use[32,:,0] = prof_d
bbb.dif_use[33,:,0] = prof_d
bbb.dif_use[34,:,0] = prof_d
bbb.dif_use[35,:,0] = prof_d
bbb.dif_use[36,:,0] = prof_d
bbb.dif_use[37,:,0] = prof_d
bbb.dif_use[38,:,0] = prof_d
bbb.dif_use[39,:,0] = prof_d
bbb.dif_use[40,:,0] = prof_d

bbb.kye_use[30,:] = prof_e
bbb.kye_use[29,:] = prof_e
bbb.kye_use[28,:] = prof_e
bbb.kye_use[27,:] = prof_e
bbb.kye_use[26,:] = prof_e
bbb.kye_use[25,:] = prof_e
bbb.kye_use[24,:] = prof_e
bbb.kye_use[23,:] = prof_e
bbb.kye_use[22,:] = prof_e
bbb.kye_use[21,:] = prof_e
bbb.kye_use[20,:] = prof_e
bbb.kye_use[19,:] = prof_e
bbb.kye_use[18,:] = prof_e
bbb.kye_use[17,:] = prof_e
bbb.kye_use[31,:] = prof_e
bbb.kye_use[32,:] = prof_e
bbb.kye_use[33,:] = prof_e
bbb.kye_use[34,:] = prof_e
bbb.kye_use[35,:] = prof_e
bbb.kye_use[36,:] = prof_e
bbb.kye_use[37,:] = prof_e
bbb.kye_use[38,:] = prof_e
bbb.kye_use[39,:] = prof_e
bbb.kye_use[40,:] = prof_e

bbb.kyi_use[30,:] = prof_i2
bbb.kyi_use[29,:] = prof_i2
bbb.kyi_use[28,:] = prof_i2
bbb.kyi_use[27,:] = prof_i2
bbb.kyi_use[26,:] = prof_i2
bbb.kyi_use[25,:] = prof_i2
bbb.kyi_use[24,:] = prof_i2
bbb.kyi_use[23,:] = prof_i2
bbb.kyi_use[22,:] = prof_i2
bbb.kyi_use[21,:] = prof_i2
bbb.kyi_use[20,:] = prof_i2
bbb.kyi_use[19,:] = prof_i2
bbb.kyi_use[18,:] = prof_i2
bbb.kyi_use[17,:] = prof_i2
bbb.kyi_use[31,:] = prof_i2
bbb.kyi_use[32,:] = prof_i2
bbb.kyi_use[33,:] = prof_i2
bbb.kyi_use[34,:] = prof_i2
bbb.kyi_use[35,:] = prof_i2
bbb.kyi_use[36,:] = prof_i2
bbb.kyi_use[37,:] = prof_i2
bbb.kyi_use[38,:] = prof_i2
bbb.kyi_use[39,:] = prof_i
bbb.kyi_use[40,:] = prof_i

plt.figure()
c.plot.mesh(bbb.dif_use[:,:,0])
plt.title('dif_use')

c.plot.mesh(bbb.kye_use[:,:])
plt.title('kye_use')

c.plot.mesh(bbb.kyi_use[:,:])
plt.title('kyi_use')

plt.show()

bbb.dif_use[1:17, :, 0] = 0.06
bbb.dif_use[41:65, :, 0] = 0.06
bbb.kye_use[1:17, :] = 0.06
bbb.kye_use[41:65, :] = 0.06
bbb.kyi_use[1:17, :] = 0.05
bbb.kyi_use[41:65, :] = 0.05

#indexing first index from 1 starts at the inner plate moving upward with index number, starting at
#Core boundary indicies: HFS: 17-30, LFS: 31-40
#kye biases heat outer plate, dif is more inner plate and has more of an effecto on midplane temps

#for ix in range(com.ixpt1[0]+1,com.ixpt2[0]: bbb.dif_use[ix,:,0]= [0.5,0.5,0.5,0.5,0.5,0.5,0.5,0.5,0.5,0.5,0.5,0.5,0.5,0.5,0.5,0.5,0.5,0.5,0.5,0.5,0.5,0.5]
#len bbb.dif_use[#,:,0] = 46

#for ix in range(com.ixpt1[0] + 1, com.ixpt2[0]):
    #print(bbb.dif_use[ix,:,0])
#kye,i decrease makes wall heat go down and decreases lambda, dif decrease increases wall heat again



from plot_sinksource import plot_sinksource
plot_sinksource(c)





bbb.afracs = 0.00825


bbb.afracs


c.populate()


import subprocess
bbb.isbcwdt=0
proc = subprocess.Popen(['caffeinate', "-d", "-u", "-i", "-s"])

try:
    c.converge(savefname='reconverged_v12_p3.93_n2.38_imp8.25e3_dp0.06_kep0.06_kip0.05', dtreal=1e-10)
    os.system("printf '\7'") #macos plays sound after converging
finally:
    # Terminate caffeinate
    proc.terminate()


c.solver.convergenceanalysis('reconverged_v12_p3.93_n2.38_imp8.25e3_dp0.06_kep0.06_kip0.05_last_ii2.hdf5');





# %matplotlib widget
fig, axs = plt.subplot_mosaic(
    [['TopLeft', 'TopRight'],
     ['Bottom', 'Bottom']],
    layout='constrained',  # Automatically adjust layout
    width_ratios=[1, 1],   # Equal width for the top plots
)
fig.suptitle('Inner heat fluxes per area')
fig.supxlabel('Distance along inner plate (m)')
fig.supylabel('Heat flux (MW/m**2)')
# axs['TopRight'].set_xlabel("Distance along inner plate (m)")
#axs['TopRight'].set_ylabel("feex (W)")
axs['TopRight'].set_title("Electrons")
axs['TopRight'].plot(com.yylb[1:-1],bbb.sdelb[1:-1,0]*1e-6)

# axs['TopLeft'].set_xlabel("Distance along inner plate (m)")
# axs['TopLeft'].set_ylabel("Heat flux (MW/m**2)")
axs['TopLeft'].set_title("Ions/Atoms")
axs['TopLeft'].plot(com.yylb[1:-1],bbb.sdilb[1:-1]*1e-6) #polodal east field area

bbb.fqp=0
bbb.plateflux(); #internally calculated fluxes (postprocessing)
# axs['Bottom'].set_xlabel("Distance along inner plate (m)")
# axs['Bottom'].set_ylabel("Heat flux [MW/m**2]")
axs['Bottom'].set_title("Particle+radiation heat flux")
axs['Bottom'].plot(com.yylb,1.e-6*(bbb.sdtlb+bbb.sdrlb))
plt.show()








#lambda_q from Eich = 1.06mm (we are probably a bit wider, so I am targeting 1.1mm, lambda_t = 3
from scipy.optimize import curve_fit
# NEED: ION HEAT, ELECTRON HEAT, ION DENSITY
poloidal_index = 28 # CHANGE TO 28 for in board, 32 out board
# exponential fit

#ELECTRONS HEAT 
eheat = -np.array(bbb.feex[poloidal_index,1:-1]) #add a minus sign for inboard
dist = np.array([val[0] for val in com.yylb[1:-1]])
mask = dist >= 0
eheat = eheat[mask]
dist = dist[mask]
# Params[0]=a, params[1]=b
# b=-1/lambda_q
params, pcov = curve_fit(lambda t,a,b: a*np.exp(b*t),  dist,  eheat,  p0=(0.5, 1/4))
#print(pcov)
#print(params)
y_fit = params[0]*np.exp(params[1]*dist)
# print(y_fit)
# Plot the results
plt.plot(dist, eheat, label="Data")

plt.title("e Heat (W)")
plt.plot(dist, y_fit, 'r-', label="Fit")
plt.gca().set_xlim(left=0)
# plt.axhline(y=0.0, color='r', linestyle='-')
plt.legend()
# plt.yscale('log')
plt.show()
print(f"Lambda_q estimate: {-1/params[1]*1000} mm")

# calc 99% heat flux
# electron TEMP REGION
from scipy.integrate import simpson
totalheat = simpson(eheat, x=dist)
from scipy.integrate import cumulative_trapezoid
cumulative_integral = cumulative_trapezoid(eheat, dist, initial=0)
target_scale = 0.95
target_value = target_scale * totalheat


index = np.searchsorted(cumulative_integral, target_value)
decaylen = dist[index]
poloidal_index = 29
etemp= np.array(bbb.te[poloidal_index,1:-1]/bbb.ev)
print(f"{target_scale*100}% of heat flux at x = {(decaylen*100):.3f}cm, e temp = {etemp[index]:.3f} eV")
print(f"at x = {(dist[13]*100):.3f}cm, Elc temp = {etemp[13]:.3f} eV")
print(f"at x = {(dist[16]*100):.3f}cm, Elc temp = {etemp[16]:.3f} eV")
# tparams, tpcov = curve_fit(lambda t,a,b: a*np.exp(b*t),  dist,  etemp,  p0=(0.5, -1))

targeteV = 5
eev = np.searchsorted(etemp[::-1], targeteV, side = "right")*-1

print(f"{targeteV}ev at x = {dist[eev]*100}cm")

#rint(f"Lambda_t estimate: {-1/tparams[1]*1000} mm")


#lambda_q from Eich = 1.06mm (we are probably a bit wider, so I am targeting 1.1mm, lambda_t = 3
from scipy.optimize import curve_fit
# NEED: ION HEAT, ELECTRON HEAT, ION DENSITY
poloidal_index = 28 # CHANGE TO 28 for in board, 32 out board
# exponential fit

# IONS HEAT
ionheat = -np.array(bbb.feix[poloidal_index,1:-1]) #add a minus sign for inboard
dist = np.array([val[0] for val in com.yylb[1:-1]])
mask = dist >= 0
ionheat = ionheat[mask]
dist = dist[mask]
# Params[0]=a, params[1]=b
# b=-1/lambda_q
params, pcov = curve_fit(lambda t,a,b: a*np.exp(b*t),  dist,  ionheat,  p0=(0.5, -1))
#print(pcov)
#print(params)
y_fit = params[0]*np.exp(params[1]*dist)
# print(y_fit)
# Plot the results
plt.plot(dist, ionheat, label="Data")
plt.title("Ion Heat (W)")
plt.plot(dist, y_fit, 'r-', label="Fit")
plt.gca().set_xlim(left=0)
# plt.axhline(y=0.0, color='r', linestyle='-')
plt.legend()
plt.show()
print(f"Lambda_q estimate: {-1/params[1]*1000} mm")

# ION TEMP REGION
from scipy.integrate import simpson
totalheat = simpson(ionheat, x=dist)
from scipy.integrate import cumulative_trapezoid
cumulative_integral = cumulative_trapezoid(ionheat, dist, initial=0)
target_scale = 0.95
target_value = target_scale * totalheat


index = np.searchsorted(cumulative_integral, target_value)
print("HI",dist[13])
decaylen = dist[index]
poloidal_index = 29
iontemp= np.array(bbb.ti[poloidal_index,1:-1]/bbb.ev)
print(f"{target_scale*100}% of heat flux at x = {(decaylen*100):.3f}cm, Ion temp = {iontemp[index]:.3f} eV")
print(f"at x = {(dist[13]*100):.3f}cm, Ion temp = {iontemp[13]:.3f} eV")
print(f"at x = {(dist[16]*100):.3f}cm, Ion temp = {iontemp[16]:.3f} eV")
# tparams, tpcov = curve_fit(lambda t,a,b: a*np.exp(b*t),  dist,  iontemp,  p0=(0.5, -1))

targeteV = 10
iev = np.searchsorted(iontemp[::-1], targeteV, side = "right")*-1

print(f"{targeteV}ev at x = {dist[iev]*100}cm")
plt.xlabel("Distance from separatrix (m)")
plt.ylabel("eV")
plt.title("Ion temp")
plt.plot(com.yylb[1:-1],bbb.ti[34,1:-1]/bbb.ev)
plt.axhline(y=5, color='r', linestyle='-')
plt.gca().set_xlim(left=0)
plt.yscale('log') 
plt.show()







plt.xlabel("Distance from separatrix (m)")
plt.ylabel("ions/m^3")
plt.title("Ion density")
plt.plot(com.yylb[1:-1],bbb.ni[33,1:-1,0])
plt.show()
plt.xlabel("Distance from separatrix (m)")
plt.ylabel("eV")
plt.title("Ion temp")
plt.plot(com.yylb[1:-1],bbb.ti[33,1:-1]/bbb.ev)
plt.show()
plt.xlabel("Distance from separatrix (m)")
plt.ylabel("eV")
plt.title("Elc temp")
plt.plot(com.yylb[1:-1],bbb.te[33,1:-1]/bbb.ev)
plt.show()

#inner limit of dist. from separatrix should correspond with the rho coord of temp and n BC so rho * minor rad. (0.72m)
#rho=0.92

'''#for heat flux wall mapping fix with Filippo's method
plt.xlabel("Distance from separatrix (m)")
plt.ylabel("feix (W/m^2)")
plt.title("Ion temp * Bpol/Btot")
plt.plot(com.yylb[1:-1],bbb.ti[com.ixpt2[0],1:-1].T/bbb.ev*((com.bpol[com.ixpt2[0],1:-1,0]/com.b[com.ixpt2[0],1:-1,0])))
plt.show()
plt.xlabel("Distance from separatrix (m)")
plt.ylabel("feex (W/m^2)")
plt.title("Elc temp * Bpol/Btot")
plt.plot(com.yylb[1:-1],bbb.te[com.ixpt2[0],1:-1].T/bbb.ev*((com.bpol[com.ixpt2[0],1:-1,0]/com.b[com.ixpt2[0],1:-1,0])))
plt.show()'''
'''
#For length scale need real distance from separatrix at midplane

plt.xlabel("Distance from separatrix (m)")
plt.ylabel("ions/m^3")
plt.title("Ion density ixpt2")
plt.plot(com.yylb[1:-1],bbb.ni[com.ixpt2[0],1:-1])
plt.show()
'''
'''plt.xlabel("R (m)")
plt.ylabel("Ti (eV)")
plt.title("Ti at midplane (ixmp)")
plt.plot(rad,bbb.ti[bbb.ixmp,1:-1]/bbb.ev)
plt.show()'''
'''
rad = [arr[0] for arr in com.rm[bbb.ixmp, 1:-1]] #average index 2 and 4 for arr

plt.xlabel("R (m)")
plt.ylabel("Te (eV)")
plt.title("Te at midplane (ixmp)")
plt.plot(rad,bbb.te[bbb.ixmp,1:-1]/bbb.ev)
plt.show()
plt.xlabel("R (m)")
plt.ylabel("feex (W/m^2)")
plt.title("feex outer bound above x point (ixpt2)")
plt.plot(rad,bbb.feex[com.ixpt2[0],1:-1])
plt.show()

import numpy as np
from scipy.optimize import curve_fit
import matplotlib.pyplot as plt

def exponential_func(x, n, k):
    return np.exp(n - x / k)

x_data = rad
y_data = bbb.feex[com.ixpt2[0], 1:-1]

x_data_outward = x_data[17:30]
y_data_outward = y_data[17:30]

try:
    popt, pcov = curve_fit(exponential_func, x_data_outward, y_data_outward, p0=[np.log(y_data_outward[0]), 1], maxfev=10000)
    
    plt.xlabel("R (m)")
    plt.ylabel("feex (W/m^2)")
    plt.title("feex outer bound above x point (ixpt2)")
    plt.plot(x_data, y_data, label="Data")
    x_fit = np.linspace(min(x_data_outward), max(x_data_outward), 100)
    y_fit = exponential_func(x_fit, *popt)
    plt.plot(x_fit, y_fit, 'r--', label="Exponential Fit")
    plt.legend()
    plt.show()

except RuntimeError as e:
    print("Curve fitting did not converge:", e)

n_opt, k_opt = popt
print(f"Optimized n: {n_opt}")
print(f"Optimized k: {k_opt*1000}") 

bbb.afracs'''






# total convective and conductive heat flux
# 2nd char: e for energy n for particle
plt.figure()
fig, axs = plt.subplot_mosaic(
    [['TopLeft', 'TopRight'],
     ['Bottom', 'Bottom']],
    layout='constrained',  # Automatically adjust layout
    width_ratios=[1, 1],   # Equal width for the top plots
)
fig.suptitle('Outer heat fluxes per area')
fig.supxlabel('Distance along outer plate (m)')
fig.supylabel('Heat flux (MW/m**2)')
# axs['TopRight'].set_xlabel("Distance along inner plate (m)")
#axs['TopRight'].set_ylabel("feex (W)")
axs['TopRight'].set_title("Electrons")
axs['TopRight'].plot(com.yyrb[1:-1],bbb.sderb[1:-1,0]*1e-6)

# axs['TopLeft'].set_xlabel("Distance along inner plate (m)")
# axs['TopLeft'].set_ylabel("Heat flux (MW/m**2)")
axs['TopLeft'].set_title("Ions/Atoms")
axs['TopLeft'].plot(com.yyrb[1:-1],bbb.sdirb[1:-1,0]*1e-6) #polodal east field area

bbb.fqp=0
bbb.plateflux(); #internally calculated fluxes (postprocessing)
# axs['Bottom'].set_xlabel("Distance along inner plate (m)")
# axs['Bottom'].set_ylabel("Heat flux [MW/m**2]")
axs['Bottom'].set_title("Particle+radiation heat flux")
axs['Bottom'].plot(com.yylb,1.e-6*(bbb.sdtrb+bbb.sdrrb))
plt.show()
max(1.e-6*(bbb.sdtrb+bbb.sdrrb))





plt.figure()

c.plot.grid(linewidth=0.1, #grid plot
   vessel=True, 
   plates=True, 
   platecolor=['gold','teal'], 
   lcfs=True, 
   xlim=(1.8, 2.8), 
   ylim=(0.1,0.85),
   lcfscolor='r', 
   linecolor='b',
   title='Mesh grid'
  );

c.plot.mesh(
    bbb.ne, 
    log=True, 
    xlim=(1.8, 2.8), 
    ylim=(0.1,0.85),
    figsize=(7,5), 
    zrange=(1e10,1e22), 
    cmap='gist_heat',
    title='Electron density'
);


c.plot.mesh(
    bbb.feex, 
    xlim=(1.8, 2.8), 
    ylim=(0.1,0.85), 
    figsize=(7,5), 
    # zrange=(-8e5,8e5),
    cmap='seismic',
    title='Electron heat (W)'
);
c.plot.mesh(
    bbb.te/bbb.ev, 
    log=True, 
    xlim=(1.8, 2.8), 
    ylim=(0.1,0.85), 
    figsize=(7,5), 
    # zrange=(-5e5,5e5),
    cmap='seismic',
    title='Electron temperature (eV)'
);

c.plot.mesh(
    bbb.ne, 
    log=True, 
    xlim=(1.8, 2.8), 
    ylim=(0.1,0.85),
    figsize=(7,5), 
    zrange=(1e10,1e22), 
    cmap='gist_heat',
    title='Ion density'
);
c.plot.mesh(
    bbb.feix, 
    # xlim=(1.8, 2.8), 
    # ylim=(0.1,0.85),
    figsize=(7,5), 
    # zrange=(-8e5,8e5),
    cmap='seismic',
    title='Ion heat (W)'
);
c.plot.mesh(
    bbb.te/bbb.ev, 
    log=True, 
    xlim=(1.8, 2.8), 
    ylim=(0.1,0.85), 
    figsize=(7,5), 
    # zrange=(-5e5,5e5),
    cmap='seismic',
    title='Ion temperature (eV)'
);
c.plot.mesh(
    bbb.na, 
    log=True, 
    xlim=(1.8, 2.8), 
    ylim=(0.1,0.85), 
    figsize=(7,5), 
    # zrange=(-5e5,5e5),
    cmap='seismic',
    title='Impurity concentration (m^-3)'
);
plt.show()


c.dashboard() # a GUI with all the most common variable





c = Case('reconverged_v12_p3.93_n2.38_imp5e3_dp0.06_kep0.06_kip0.06_last_ii2.hdf5')


from scipy.integrate import simpson
bbb.fqp=0
bbb.plateflux();

psep = simpson( (bbb.feiy+bbb.feey)[com.ixpt1[0]+1:com.ixpt2[0],com.iysptrx]) / 1e6
pcore = simpson( (bbb.feiy+bbb.feey)[com.ixpt1[0]+1:com.ixpt2[0],0]) / 1e6

print(f' Power from core boundary (surface closest to magnetic axis) = {pcore:.3f} MW  \n \
Power at Separatrix = {psep:.3f} MW  \n \
Power radiated in core region = {(pcore-psep):.3f} MW = {((abs(pcore-psep)/pcore)*100):3f}%')
particlecore = simpson( (bbb.fniy)[com.ixpt1[0]+1:com.ixpt2[0],0])


impFracs = [1e-4, 3e-3, 3e-2]
pRads = [33.11, 33.9, 42.5]


c.search.var("feex")
c.search.var("iysptrx")


print(grd.rplate1,grd.rplate2,grd.zplate1,grd.zplate1)
