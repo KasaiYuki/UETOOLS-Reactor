import os
import sys
import numpy as np
import matplotlib.pyplot as plt
from uedge import *
from uedge.hdf5 import *
#import plotmesh as pm
from uetools import Case
from uedge.gridue import write_gridue
from Forthon import gchange


import os
os.getcwd()  





c = Case('centaur_v12_p13.5MW_n2.187e20_Zeff3_last_ii2.hdf5')
#c = Case('input_v12_zeff.yaml')
print("dif_use, kye_use, kyi_use around SOL:", bbb.dif_use[28, :, 0][1], bbb.kye_use[28, :][1], bbb.kyi_use[28, :][1])
#if bbb.dif_use[30, :, 0][1] == c_dif and bbb.kye_use[30, :][1] == c_kye and bbb.kyi_use[30, :][1] == c_kyi:
   # pass
#else:
    #print(f'Diffusivities or chi values not matching!', file=sys.stderr)
# fnorm for final=1.65e+00


bbb.afracs


c.populate()
print("dif_use, kye_use, kyi_use around SOL:", bbb.dif_use[30, :, 0][1], bbb.kye_use[30, :][1], bbb.kyi_use[30, :][1])


'''c_dif = 0.05
c_kye = 0.05
c_kyi = 0.02

prof_d = [0.06, 0.059, 0.058, 0.057, 0.056, 0.055, 0.054, 0.053, 0.052, 0.051, 
 0.05, 0.049, 0.048, 0.047, 0.046, 0.045, 0.044, 0.043, 0.042, 0.041, 
 0.04, 0.039, 0.038, 0.037, 0.036, 0.035, 0.034, 0.033, 0.032, 0.031, 
 0.03, 0.029, 0.028, 0.027, 0.026, 0.025, 0.024, 0.023, 0.022, 0.021, 
 0.02, 0.019, 0.018, 0.017, 0.016, 0.015]
prof_e = [0.06, 0.059, 0.058, 0.057, 0.056, 0.055, 0.054, 0.053, 0.052, 0.051, 
 0.05, 0.049, 0.048, 0.047, 0.046, 0.045, 0.044, 0.043, 0.042, 0.041, 
 0.04, 0.039, 0.038, 0.037, 0.036, 0.035, 0.034, 0.033, 0.032, 0.031, 
 0.03, 0.029, 0.028, 0.027, 0.026, 0.025, 0.024, 0.023, 0.022, 0.021, 
 0.02, 0.019, 0.018, 0.017, 0.016, 0.015]
prof_i = [0.0226, 0.0221, 0.0216, 0.0211, 0.0206, 0.0201, 0.0196, 0.0191, 0.0186, 0.0181, 
 0.0176, 0.0171, 0.0166, 0.0161, 0.0156, 0.0151, 0.0146, 0.0141, 0.0136, 0.0131, 
 0.0126, 0.0121, 0.0116, 0.0111, 0.0106, 0.0101, 0.0096, 0.0091, 0.0086, 0.0081, 
 0.0076, 0.0071, 0.0066, 0.0061, 0.0056, 0.0051, 0.0046, 0.0041, 0.0036, 0.0031, 
 0.0026, 0.0021, 0.0016, 0.0011, 0.0006, 0.0001]

#divertor region temporary for plotting, reset to 0.5 at the end of cell
bbb.dif_use[1:17, :, 0] = c_dif
bbb.dif_use[41:65, :, 0] = c_dif
bbb.kye_use[1:17, :] = c_kye
bbb.kye_use[41:65, :] = c_kye
bbb.kyi_use[1:17, :] = c_kyi
bbb.kyi_use[41:65, :] = c_kyi

bbb.dif_use[30,:,0] = prof_d
bbb.dif_use[29,:,0] = prof_d
bbb.dif_use[28,:,0] = prof_d
bbb.dif_use[27,:,0] = prof_d
bbb.dif_use[26,:,0] = prof_d
bbb.dif_use[25,:,0] = prof_d
bbb.dif_use[24,:,0] = prof_d
bbb.dif_use[23,:,0] = prof_d
bbb.dif_use[22,:,0] = prof_d
bbb.dif_use[21,:,0] = prof_d
bbb.dif_use[20,:,0] = prof_d
bbb.dif_use[19,:,0] = prof_d
bbb.dif_use[18,:,0] = prof_d
bbb.dif_use[17,:,0] = prof_d
bbb.dif_use[31,:,0] = prof_d
bbb.dif_use[32,:,0] = prof_d
bbb.dif_use[33,:,0] = prof_d
bbb.dif_use[34,:,0] = prof_d
bbb.dif_use[35,:,0] = prof_d
bbb.dif_use[36,:,0] = prof_d
bbb.dif_use[37,:,0] = prof_d
bbb.dif_use[38,:,0] = prof_d
bbb.dif_use[39,:,0] = prof_d
bbb.dif_use[40,:,0] = prof_d

bbb.kye_use[30,:] = prof_e
bbb.kye_use[29,:] = prof_e
bbb.kye_use[28,:] = prof_e
bbb.kye_use[27,:] = prof_e
bbb.kye_use[26,:] = prof_e
bbb.kye_use[25,:] = prof_e
bbb.kye_use[24,:] = prof_e
bbb.kye_use[23,:] = prof_e
bbb.kye_use[22,:] = prof_e
bbb.kye_use[21,:] = prof_e
bbb.kye_use[20,:] = prof_e
bbb.kye_use[19,:] = prof_e
bbb.kye_use[18,:] = prof_e
bbb.kye_use[17,:] = prof_e
bbb.kye_use[31,:] = prof_e
bbb.kye_use[32,:] = prof_e
bbb.kye_use[33,:] = prof_e
bbb.kye_use[34,:] = prof_e
bbb.kye_use[35,:] = prof_e
bbb.kye_use[36,:] = prof_e
bbb.kye_use[37,:] = prof_e
bbb.kye_use[38,:] = prof_e
bbb.kye_use[39,:] = prof_e
bbb.kye_use[40,:] = prof_e

bbb.kyi_use[30,:] = prof_i
bbb.kyi_use[29,:] = prof_i
bbb.kyi_use[28,:] = prof_i
bbb.kyi_use[27,:] = prof_i
bbb.kyi_use[26,:] = prof_i
bbb.kyi_use[25,:] = prof_i
bbb.kyi_use[24,:] = prof_i
bbb.kyi_use[23,:] = prof_i
bbb.kyi_use[22,:] = prof_i
bbb.kyi_use[21,:] = prof_i
bbb.kyi_use[20,:] = prof_i
bbb.kyi_use[19,:] = prof_i
bbb.kyi_use[18,:] = prof_i
bbb.kyi_use[17,:] = prof_i
bbb.kyi_use[31,:] = prof_i
bbb.kyi_use[32,:] = prof_i
bbb.kyi_use[33,:] = prof_i
bbb.kyi_use[34,:] = prof_i
bbb.kyi_use[35,:] = prof_i
bbb.kyi_use[36,:] = prof_i
bbb.kyi_use[37,:] = prof_i
bbb.kyi_use[38,:] = prof_i
bbb.kyi_use[39,:] = prof_i
bbb.kyi_use[40,:] = prof_i
#bbb.kye_use[com.ixpt1[0]+1:com.ixpt2[0],com.iysptrx-10:com.iysptrx] = 15 what does this do?
'''
plt.figure()
c.plot.mesh(bbb.dif_use[:,:,0])
plt.title('dif_use')

c.plot.mesh(bbb.kye_use[:,:])
plt.title('kye_use')

c.plot.mesh(bbb.kyi_use[:,:])
plt.title('kyi_use')

plt.show()
'''
bbb.dif_use[1:17, :, 0] = c_dif
bbb.dif_use[41:65, :, 0] = c_dif
bbb.kye_use[1:17, :] = c_kye
bbb.kye_use[41:65, :] = c_kye
bbb.kyi_use[1:17, :] = c_kyi
bbb.kyi_use[41:65, :] = c_kyi

#indexing first index from 1 starts at the inner plate moving upward with index number, starting at
#Core boundary indicies: HFS: 17-30, LFS: 31-40
#kye biases heat outer plate, dif is more inner plate and has more of an effecto on midplane temps

#for ix in range(com.ixpt1[0]+1,com.ixpt2[0]: bbb.dif_use[ix,:,0]= [0.5,0.5,0.5,0.5,0.5,0.5,0.5,0.5,0.5,0.5,0.5,0.5,0.5,0.5,0.5,0.5,0.5,0.5,0.5,0.5,0.5,0.5]
#len bbb.dif_use[#,:,0] = 46

#for ix in range(com.ixpt1[0] + 1, com.ixpt2[0]):
    #print(bbb.dif_use[ix,:,0])
#kye,i decrease makes wall heat go down and decreases lambda, dif decrease increases wall heat again
'''


from plot_sinksource import plot_sinksource
plot_sinksource(c)





bbb.ncore


#bbb.afracs = 1.e-4
bbb.afracs


# bbb.pcoree = 5.e6
# bbb.pcorei = 5.e6
bbb.pcoree,bbb.pcorei


#bbb.isimpon = 6
bbb.isimpon


c.populate()


import subprocess
bbb.isbcwdt=0
proc = subprocess.Popen(['caffeinate', "-d", "-u", "-i", "-s"])

try:
    c.converge(savefname='centaur_v12_p13.5MW_n2.187e20_Zeff3', dtreal=1e-10)
    os.system("printf '\7'") #macos plays sound after converging
finally:
    # Terminate caffeinate
    proc.terminate()


import subprocess
proc = subprocess.Popen(['caffeinate', "-d", "-u", "-i", "-s"])

try:
    c.continuation_solve('afracs', 1e-2, savedir='impu_up', dtreal=1e-10, ftol=1e-2)
    os.system("printf '\7'") #macos plays sound after converging
finally:
    # Terminate caffeinate
    proc.terminate()


c.solver.convergenceanalysis('centaur_v12_p4.50_n2.38_imp3.25e2_last_ii2.hdf5');





# %matplotlib widget
bbb.fqp=0
bbb.plateflux(); #internally calculated fluxes (postprocessing)

fig, axs = plt.subplot_mosaic(
    [['TopLeft', 'TopRight'],
     ['Bottom', 'Bottom']],
    layout='constrained',  # Automatically adjust layout
    width_ratios=[1, 1],   # Equal width for the top plots
)
fig.suptitle('Inner heat fluxes')
fig.supxlabel('Distance along inner plate (m)')
fig.supylabel('Heat flux (MW/m**2)')
# axs['TopRight'].set_xlabel("Distance along inner plate (m)")
#axs['TopRight'].set_ylabel("feex (W)")
axs['TopRight'].set_title("Electrons")
axs['TopRight'].plot(com.yylb[1:-1],bbb.sdelb[1:-1,0]*1e-6)

# axs['TopLeft'].set_xlabel("Distance along inner plate (m)")
# axs['TopLeft'].set_ylabel("Heat flux (MW/m**2)")
axs['TopLeft'].set_title("Ions/Atoms")
axs['TopLeft'].plot(com.yylb[1:-1],bbb.sdilb[1:-1]*1e-6) #polodal east field area

# axs['Bottom'].set_xlabel("Distance along inner plate (m)")
# axs['Bottom'].set_ylabel("Heat flux [MW/m**2]")
axs['Bottom'].set_title("Particle+radiation heat flux")
axs['Bottom'].plot(com.yylb,1.e-6*(bbb.sdtlb+bbb.sdrlb))
plt.show()

import numpy as np

# Save particle + radiation heat flux data
x = com.yylb  # distance along inner plate
q = 1.e-6 * (bbb.sdtlb + bbb.sdrlb)  # convert to MW/m^2

data = np.column_stack((x, q))
np.savetxt("inner_plate_heat_flux.txt", data, header="Distance_along_plate(m) Heat_flux(MW/m^2)", fmt="%.6e")






#lambda_q from Eich = 1.06mm (we are probably a bit wider, so I am targeting 1.1mm, lambda_t = 3
from scipy.optimize import curve_fit
from scipy.interpolate import UnivariateSpline
# NEED: ION HEAT, ELECTRON HEAT, ION DENSITY
poloidal_index = 28 # CHANGE TO 28 for in board, 32 out board
# exponential fit

#ELECTRONS HEAT 
eheat = -np.array(bbb.feex[poloidal_index,1:-1]) #add a minus sign for inboard
dist = np.array([val[0] for val in com.yylb[1:-1]])
mask = dist >= 0
eheat = eheat[mask]
dist = dist[mask]
# Params[0]=a, params[1]=b
# b=-1/lambda_q
params, pcov = curve_fit(lambda t,a,b: a*np.exp(b*t),  dist,  eheat,  p0=(0.5, 1/4))

y_fit = params[0]*np.exp(params[1]*dist)

plt.plot(dist, eheat, label="Data")

plt.title("e Heat (W)")
plt.plot(dist, y_fit, 'r-', label="Fit")
plt.gca().set_xlim(left=0)
# plt.axhline(y=0.0, color='r', linestyle='-')
plt.legend()
# plt.yscale('log')
plt.show()
print(f"Lambda_q estimate: {-1/params[1]*1000} mm")

# calc 99% heat flux
# electron TEMP REGION
from scipy.integrate import simpson
totalheat = simpson(eheat, x=dist)
from scipy.integrate import cumulative_trapezoid
cumulative_integral = cumulative_trapezoid(eheat, dist, initial=0)
target_scale = 0.999
target_value = target_scale * cumulative_integral[-1]

index = np.searchsorted(cumulative_integral, target_value)

decaylen = dist[index]
poloidal_index = 28
etemp= np.array(bbb.te[poloidal_index,1:-1]/bbb.ev)
etemp = etemp[mask]

# Interpolating to get exact temp at wall
interp_func = UnivariateSpline(dist[10:17], etemp[10:17])
x = np.arange(0.015, 0.025, 0.001)

y = interp_func(x)

wallIndex = np.where(abs(x - 0.02) < 0.0000001)[0][0]


# print(np.shape(dist),np.shape(eheat), np.shape(etemp))
print(f"{target_scale*100}% of heat flux at x = {(decaylen*100):.3f}cm, e temp = {etemp[index]:.3f} eV")
print(f"*** at x = 2cm (Index = {wallIndex}), interpolated Elc temp = {y[wallIndex]:.3f} eV ***")
print(f"at x = {(dist[13]*100):.3f}cm, Elc temp = {etemp[13]:.3f} eV")
print(f"at x = {(dist[16]*100):.3f}cm, Elc temp = {etemp[16]:.3f} eV")
print(f"at x = {(dist[21]*100):.3f}cm, Elc temp = {etemp[21]:.3f} eV")
plt.plot(x, y)
plt.plot(dist, etemp)
plt.title('Interpolation region check')
plt.xlim([0.015,0.025])
plt.ylim([7.5,17])
plt.show()
# tparams, tpcov = curve_fit(lambda t,a,b: a*np.exp(b*t),  dist,  etemp,  p0=(0.5, -1))
plt.plot(dist, etemp)
plt.title("e Temp (eV)")
plt.show()
targeteV = 5
eev = np.searchsorted(etemp[::-1], targeteV, side = "right")*-1

print(f"{targeteV}ev at x = {dist[eev]*100}cm")




#lambda_q from Eich = 1.06mm (we are probably a bit wider, so I am targeting 1.1mm, lambda_t = 3
from scipy.optimize import curve_fit
from scipy.interpolate import UnivariateSpline
# NEED: ION HEAT, ELECTRON HEAT, ION DENSITY
poloidal_index = 28 # CHANGE TO 28 for in board, 32 out board
# exponential fit

# IONS HEAT
ionheat = -np.array(bbb.feix[poloidal_index,1:-1]) #add a minus sign for inboard
dist = np.array([val[0] for val in com.yylb[1:-1]])
mask = dist >= 0
ionheat = ionheat[mask]
dist = dist[mask]
# Params[0]=a, params[1]=b
# b=-1/lambda_q
params, pcov = curve_fit(lambda t,a,b: a*np.exp(b*t),  dist,  ionheat,  p0=(0.5, -1))
#print(pcov)
#print(params)
y_fit = params[0]*np.exp(params[1]*dist)
# print(y_fit)
# Plot the results
plt.plot(dist, ionheat, label="Data")
plt.title("Ion Heat (W)")
plt.plot(dist, y_fit, 'r-', label="Fit")
plt.gca().set_xlim(left=0)
# plt.axhline(y=0.0, color='r', linestyle='-')
plt.legend()
plt.show()
print(f"Lambda_q estimate: {-1/params[1]*1000} mm")

# ION TEMP REGION
from scipy.integrate import simpson
totalheat = simpson(ionheat, x=dist)
from scipy.integrate import cumulative_trapezoid
cumulative_integral = cumulative_trapezoid(ionheat, dist, initial=0)
target_scale = 0.999
target_value = target_scale * totalheat
iontemp= np.array(bbb.ti[poloidal_index,1:-1]/bbb.ev)
iontemp = iontemp[mask]


# Interpolation check
interp_func = UnivariateSpline(dist[10:17], iontemp[10:17])
x = np.arange(0.015, 0.025, 0.001)
# print(x)
y = interp_func(x)

wallIndex = np.where(abs(x - 0.02) < 0.0000001)[0][0]


index = np.searchsorted(cumulative_integral, target_value)
# print("HI",dist[13])
decaylen = dist[index]
poloidal_index = 29
iontemp= np.array(bbb.ti[poloidal_index,1:-1]/bbb.ev)
iontemp = iontemp[mask]
print(f"{target_scale*100}% of heat flux at x = {(decaylen*100):.3f}cm, Ion temp = {iontemp[index]:.3f} eV")
print(f"*** at x = 2cm (Index = {wallIndex}), interpolated Ion temp = {y[wallIndex]:.3f} eV ***")
print(f"at x = {(dist[13]*100):.3f}cm, Ion temp = {iontemp[13]:.3f} eV")
print(f"at x = {(dist[16]*100):.3f}cm, Ion temp = {iontemp[16]:.3f} eV")
print(f"at x = {(dist[21]*100):.3f}cm, Ion temp = {iontemp[21]:.3f} eV")
# tparams, tpcov = curve_fit(lambda t,a,b: a*np.exp(b*t),  dist,  iontemp,  p0=(0.5, -1))
plt.plot(x, y)
plt.plot(dist, etemp)
plt.title('Interpolation region check')
plt.xlim([0.015,0.025])
plt.ylim([7.5,17])
plt.show()
targeteV = 10
iev = np.searchsorted(iontemp[::-1], targeteV, side = "right")*-1

print(f"{targeteV}ev at x = {dist[iev]*100}cm")
plt.xlabel("Distance from separatrix (m)")
plt.ylabel("eV")
plt.title("Ion temp")
plt.plot(com.yylb[1:-1],bbb.ti[34,1:-1]/bbb.ev)
plt.axhline(y=5, color='r', linestyle='-')
plt.gca().set_xlim(left=0)
plt.yscale('log') 
plt.show()








# %matplotlib widget
plt.xlabel("Distance from separatrix (m)")
plt.ylabel("ions/m^3")
plt.title("Ion density")
plt.plot(com.yylb[1:-1],bbb.ni[28,1:-1,0])
plt.show()
plt.xlabel("Distance from separatrix (m)")
plt.ylabel("eV")
plt.title("Ion temp")
plt.plot(com.yylb[1:-1],bbb.ti[28,1:-1]/bbb.ev)
plt.show()
plt.xlabel("Distance from separatrix (m)")
plt.ylabel("eV")
plt.title("Elc temp")
plt.plot(com.yylb[1:-1],bbb.te[28,1:-1]/bbb.ev)
plt.plot(com.yylb[1:-1],bbb.te[31,1:-1]/bbb.ev)
plt.show()

plt.plot(com.yylb[1:-1], bbb.ne[30,1:-1])
plt.xlabel('Distance from Separatrix (m)')
plt.title('Elc density Inner Midplane')
plt.show()
plt.plot(com.yylb[1:-1], bbb.ne[31,1:-1])
plt.xlabel('Distance from Separatrix (m)')
plt.title('Elc density Outer Midplane')
#inner limit of dist. from separatrix should correspond with the rho coord of temp and n BC so rho * minor rad. (0.72m)
#rho=0.92
bbb.ni[28,1:-1,0].size

import numpy as np

# Coordinates (distance from separatrix)
x = com.yylb[1:-1]

# Electron temperature (in eV) at outer midplane (index 31)
te_outer = bbb.te[31, 1:-1] / bbb.ev

# Electron density (in ions/m^3) at outer midplane (index 31)
ne_outer = bbb.ne[31, 1:-1]

# Stack data for saving: columns = [x, value]
te_data = np.column_stack((x, te_outer))
ne_data = np.column_stack((x, ne_outer))

# Save to text files
np.savetxt("electron_temp_outer_midplane.txt", te_data, header="Distance_from_separatrix(m) Electron_Temperature(eV)", fmt="%.6e")
np.savetxt("electron_density_outer_midplane.txt", ne_data, header="Distance_from_separatrix(m) Electron_Density(ions/m^3)", fmt="%.6e")



rho = (com.yylb[1:-1] / 0.72) + 1
n_e = bbb.ne[31,1:-1].reshape(44)
rho = rho.reshape(44)
np.savetxt('midplane_ne.csv', np.vstack((rho,n_e)).T, delimiter=', ')
t_i = bbb.ti[31,1:-1].reshape(44)
t_e = bbb.te[31,1:-1].reshape(44)
n_i = bbb.ni[31,1:-1,0].reshape(44)
np.savetxt('midplane_ti.csv', np.vstack((rho,t_i)).T, delimiter=', ')
np.savetxt('midplane_te.csv', np.vstack((rho,t_e)).T, delimiter=', ')
np.savetxt('outmidplane_ni.csv', np.vstack((rho,n_i)).T, delimiter=', ')
plt.plot(rho, n_i)





# total convective and conductive heat flux
# 2nd char: e for energy n for particle
bbb.fqp=0
bbb.plateflux(); #internally calculated fluxes (postprocessing)

plt.figure()
fig, axs = plt.subplot_mosaic(
    [['TopLeft', 'TopRight'],
     ['Bottom', 'Bottom']],
    layout='constrained',  # Automatically adjust layout
    width_ratios=[1, 1],   # Equal width for the top plots
)
fig.suptitle('Outer heat fluxes')
fig.supxlabel('Distance along outer plate (m)')
fig.supylabel('Heat flux (MW/m**2)')
# axs['TopRight'].set_xlabel("Distance along inner plate (m)")
#axs['TopRight'].set_ylabel("feex (W)")
axs['TopRight'].set_title("Electrons")
axs['TopRight'].plot(com.yyrb[1:-1],bbb.sderb[1:-1,0]*1e-6)

# axs['TopLeft'].set_xlabel("Distance along inner plate (m)")
# axs['TopLeft'].set_ylabel("Heat flux (MW/m**2)")
axs['TopLeft'].set_title("Ions/Atoms")
axs['TopLeft'].plot(com.yyrb[1:-1],bbb.sdirb[1:-1,0]*1e-6) #polodal east field area


# axs['Bottom'].set_xlabel("Distance along inner plate (m)")
# axs['Bottom'].set_ylabel("Heat flux [MW/m**2]")
axs['Bottom'].set_title("Particle+radiation heat flux")
axs['Bottom'].plot(com.yyrb,1.e-6*(bbb.sdtrb+bbb.sdrrb))
plt.show()
max(1.e-6*(bbb.sdtrb+bbb.sdrrb))

import numpy as np

# Save particle + radiation heat flux data
x = com.yyrb  # distance along inner plate
q = 1.e-6 * (bbb.sdtrb + bbb.sdrrb)  # convert to MW/m^2

data = np.column_stack((x, q))
np.savetxt("outer_plate_heat_flux.txt", data, header="Distance_along_plate(m) Heat_flux(MW/m^2)", fmt="%.6e")



np.sum( (bbb.sdtrb+bbb.sdrrb)) / 1e6





plt.figure()

c.plot.grid(linewidth=0.1, #grid plot
   vessel=True, 
   plates=True, 
   platecolor=['gold','teal'], 
   lcfs=True, 
   xlim=(1.8, 2.8), 
   ylim=(0.1,0.85),
   lcfscolor='r', 
   linecolor='b',
   title='Mesh grid'
  );

c.plot.mesh(
    bbb.ne, 
    log=True, 
    xlim=(1.8, 2.8), 
    ylim=(0.1,0.85),
    figsize=(7,5), 
    zrange=(1e8,1e21), 
    cmap='gist_heat',
    title='Electron density'
);


c.plot.mesh(
    abs(bbb.feex), 
    log=True,
    xlim=(1.8, 2.8), 
    ylim=(0.1,0.85), 
    figsize=(7,5), 
    zrange=(1,1e6),
    cmap='inferno',
    title='Electron heat (W)'
);
c.plot.mesh(
    bbb.te/bbb.ev, 
    log=True, 
    xlim=(1.8, 2.8), 
    ylim=(0.1,0.85), 
    figsize=(7,5), 
    # zrange=(-5e5,5e5),
    cmap='seismic',
    title='Electron temperature (eV)'
);

c.plot.mesh(
    bbb.ne, 
    log=True, 
    xlim=(1.8, 2.8), 
    ylim=(0.1,0.85),
    figsize=(7,5), 
    zrange=(1e10,1e22), 
    cmap='gist_heat',
    title='Ion density'
);
c.plot.mesh(
    bbb.feix, 
    # xlim=(1.8, 2.8), 
    # ylim=(0.1,0.85),
    figsize=(7,5), 
    # zrange=(-8e5,8e5),
    cmap='seismic',
    title='Ion heat (W)'
);
c.plot.mesh(
    bbb.te/bbb.ev, 
    log=True, 
    xlim=(1.8, 2.8), 
    ylim=(0.1,0.85), 
    figsize=(7,5), 
    # zrange=(-5e5,5e5),
    cmap='seismic',
    title='Ion temperature (eV)'
);
c.plot.mesh(
    bbb.na, 
    log=True, 
    xlim=(1.8, 2.8), 
    ylim=(0.1,0.85), 
    figsize=(7,5), 
    # zrange=(-5e5,5e5),
    cmap='seismic',
    title='Impurity concentration (m^-3)'
);
c.plot.mesh(
    bbb.prad, 
    log=True, 
    xlim=(1.8, 2.8), 
    ylim=(0.1,0.85), 
    figsize=(7,5), 
    # zrange=(-5e5,5e5),
    cmap='seismic',
    title='Power Radiation'
);
plt.show()


c.dashboard() # a GUI with all the most common variable





# Zeff=Sum(n_i*Z_i^2)/ne.  
# For n_i use your main ion and n_Ne. 
# Calculate them using quasi neutrality and your impurity fraction 
nD = bbb.ni.transpose()
nT = nD[1] # deut density - atomic density
nD = nD[0] # deut density - ion density
nT = nT.transpose()
nD = nD.transpose()
zeff = (nT+nD+(bbb.na*100))/bbb.ne
c.plot.mesh(
    zeff, 
    log=True, 
    xlim=(1.8, 2.8), 
    ylim=(0.1,0.85), 
    figsize=(7,5), 
    zrange=(1,10),
    cmap='seismic',
    title='Impurity concentration (m^-3)'
);
y = zeff[17:41,2]

print(f'Zeff computational val: {y[0]}, basic calc at core-edge from Andreas: {1+bbb.afracs[0][0]*100}')





c = Case('reconverged_v12_p3.93_n2.38_imp5e3_dp0.06_kep0.06_kip0.06_last_ii2.hdf5')


from scipy.integrate import simpson
bbb.fqp=0
bbb.plateflux();

pcore = simpson( (bbb.feiy+bbb.feey)[com.ixpt1[0]+1:com.ixpt2[0]+1,0]) / 1e6
psep = simpson( (bbb.feiy+bbb.feey)[com.ixpt1[0]+1:com.ixpt2[0]+1,com.iysptrx]) / 1e6

print(f' Power from core boundary (surface closest to magnetic axis) = {pcore:.3f} MW  \n \
Power at Separatrix = {psep:.3f} MW  \n \
Power radiated in core region = {(pcore-psep):.3f} MW = {((abs(pcore-psep)/pcore)*100):3f}%')
particlecore = simpson( (bbb.fniy)[com.ixpt1[0]+1:com.ixpt2[0],0])

pleft = simpson( (bbb.feiy+bbb.feey)[com.ixpt1[0]+1:32,com.iysptrx]) / 1e6
pright = simpson( (bbb.feiy+bbb.feey)[32:com.ixpt2[0]+1,com.iysptrx]) / 1e6
print(f'From LCFS, {(pright/pleft):.3f} times more power going out into high field side than low field side\n Left:{pleft} MW | Right: {pright} MW')


impFracs = [1e-4, 3e-3, 3e-2]
pRads = [33.11, 33.9, 42.5]



c.search.var("ne")
# bbb.turb_chi()
bbb.up


len(bbb.te[28])



