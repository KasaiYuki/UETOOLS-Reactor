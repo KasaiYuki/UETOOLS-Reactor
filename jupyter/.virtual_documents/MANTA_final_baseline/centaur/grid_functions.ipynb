import os
import sys
import numpy as np
import matplotlib.pyplot as plt
from uedge import *
from uedge.hdf5 import *
#import plotmesh as pm
from uetools import Case
from uedge.gridue import write_gridue
from Forthon import gchange


name = 'centaur_v12_p14.4MW_n2.187e20_Zeff3_last_ii2'
c = Case(name+'.hdf5')
c.solver.convergenceanalysis(name+'.hdf5');





# %matplotlib widget
from gridgen_v15 import setGrid
setGrid()


c = Case()
c.solver.convergenceanalysis('reconverged_v12_p3.93_n2.38_imp8.5e3_dp0.06_kep0.06_kip0.06_last_ii2.hdf5');





c = Case('input_v9_integrated_puff.yaml')


import subprocess

proc = subprocess.Popen(['caffeinate'])

try:
    c.solver.gridmorph("gridue_v9_long.hdf5", 'gridmorph2', dt=1e20)  
finally:
    # Terminate caffeinate
    proc.terminate()



# %%capture capt
import os

directory = os.getcwd()+'/gridmorph2'
files = os.listdir(directory)
files.sort(key=lambda x: os.stat(os.path.join(directory, x)).st_mtime)
lpoints = []
rpoints = []
for file in files:
    filename = os.fsdecode(file)
    c = Case('gridmorph2/' + filename)
    bbb.fqp=0
    bbb.plateflux(); #internally calculated fluxes (postprocessing)
    ldata = 1.e-6*(bbb.sdtlb+bbb.sdrlb)
    rdata = 1.e-6*(bbb.sdtrb+bbb.sdrrb)
    lpoints.append(max(ldata))
    rpoints.append(max(rdata))
    print(f'Left max: {max(ldata)}, right max: {max(rdata)}', file=sys.stderr)
    
    





plt.figure()
plt.plot(np.arange(0,16), [item[0] for item in lpoints])
plt.figure()
plt.plot(np.arange(0,16), [item[0] for item in rpoints])
