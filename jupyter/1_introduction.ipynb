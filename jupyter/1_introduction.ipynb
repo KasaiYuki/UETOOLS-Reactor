{
 "cells": [
  {
   "cell_type": "markdown",
   "id": "37d4a9e2-93d4-4679-9327-5cd42296c680",
   "metadata": {},
   "source": [
    "# Welcome to UETOOLS\n"
   ]
  },
  {
   "cell_type": "markdown",
   "id": "1a4278e4-95dd-4e71-9095-36047f9e196e",
   "metadata": {},
   "source": [
    "### Set up dependencies"
   ]
  },
  {
   "cell_type": "code",
   "execution_count": 5,
   "id": "bb24aa81-f8d4-4224-afbd-43f2846da4d7",
   "metadata": {},
   "outputs": [
    {
     "name": "stdout",
     "output_type": "stream",
     "text": [
      "Requirement already satisfied: pip in /Users/holm10/Documents/fusion/uedge/venvs/dev/lib/python3.10/site-packages (23.3.2)\n",
      "Requirement already satisfied: uedge in /Users/holm10/Documents/fusion/uedge/venvs/dev/lib/python3.10/site-packages/uedge-8.0.5b3-py3.10-macosx-11.1-arm64.egg (8.0.5b3)\n",
      "Requirement already satisfied: forthon in /Users/holm10/Documents/fusion/uedge/venvs/dev/lib/python3.10/site-packages (from uedge) (0.10.3)\n",
      "Requirement already satisfied: numpy in /Users/holm10/Documents/fusion/uedge/venvs/dev/lib/python3.10/site-packages (1.24.3)\n"
     ]
    }
   ],
   "source": [
    "!pip install --upgrade pip\n",
    "!pip install uedge\n",
    "!pip install numpy"
   ]
  },
  {
   "cell_type": "markdown",
   "id": "82728b50-cf45-4e83-902a-b03db7946cf4",
   "metadata": {},
   "source": [
    "### Import data from UEDGE"
   ]
  },
  {
   "cell_type": "code",
   "execution_count": null,
   "id": "5650d62f-9f45-4c8c-ab03-cf5d9d8a31e0",
   "metadata": {},
   "outputs": [],
   "source": []
  }
 ],
 "metadata": {
  "kernelspec": {
   "display_name": "Python 3 (ipykernel)",
   "language": "python",
   "name": "python3"
  },
  "language_info": {
   "codemirror_mode": {
    "name": "ipython",
    "version": 3
   },
   "file_extension": ".py",
   "mimetype": "text/x-python",
   "name": "python",
   "nbconvert_exporter": "python",
   "pygments_lexer": "ipython3",
   "version": "3.10.9"
  }
 },
 "nbformat": 4,
 "nbformat_minor": 5
}
