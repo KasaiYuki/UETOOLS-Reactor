{
 "cells": [
  {
   "cell_type": "markdown",
   "id": "37d4a9e2-93d4-4679-9327-5cd42296c680",
   "metadata": {},
   "source": [
    "# Welcome to UETOOLS\n"
   ]
  },
  {
   "cell_type": "markdown",
   "id": "1a4278e4-95dd-4e71-9095-36047f9e196e",
   "metadata": {},
   "source": [
    "Ensure that UEDGE is installed on your machine. If not, UEDGE can easily be installed using pip:\n",
    "\n",
    "    pip install uedge"
   ]
  },
  {
   "cell_type": "code",
   "execution_count": 1,
   "id": "91ca83f0-2a9e-400e-8acc-7b122dc4f580",
   "metadata": {},
   "outputs": [],
   "source": [
    "import uedge"
   ]
  },
  {
   "cell_type": "markdown",
   "id": "82728b50-cf45-4e83-902a-b03db7946cf4",
   "metadata": {},
   "source": [
    "#### Restoring a UEDGE case from an input file\n",
    "Next, it is time to import the UEDGE case: first navigate to the test folder"
   ]
  },
  {
   "cell_type": "code",
   "execution_count": 2,
   "id": "5650d62f-9f45-4c8c-ab03-cf5d9d8a31e0",
   "metadata": {},
   "outputs": [],
   "source": [
    "from os import chdir\n",
    "chdir('testcase_hires') "
   ]
  },
  {
   "cell_type": "markdown",
   "id": "5cd781f7-06ff-4d70-80f0-9d3dbc109bb9",
   "metadata": {},
   "source": [
    "Now, it is time to load the UETOOLS and create a case based on the input file"
   ]
  },
  {
   "cell_type": "code",
   "execution_count": 3,
   "id": "e01f4c00-9e22-4887-adec-7f3df3732911",
   "metadata": {},
   "outputs": [
    {
     "name": "stdout",
     "output_type": "stream",
     "text": [
      "UEDGE configuration file /Users/holm10/.uetoolsrc found.\n",
      "Saved solution successfully restored from nc20.hdf5\n",
      "\n",
      "*** UEDGE arrays populated: Case appears converged ***\n",
      "fnrm without preconditioning: 9.19e-03\n",
      "\n"
     ]
    }
   ],
   "source": [
    "from uetools import Case\n",
    "c = Case('input.yaml') # Create a test at variable \"c\" from the YAML input file"
   ]
  },
  {
   "cell_type": "markdown",
   "id": "1a9d3f08-b7eb-427c-a2d8-d7b1d4ac73e0",
   "metadata": {},
   "source": [
    "UETOOLS reads YAML-style input files, or restores the UEDGE case from save-files created by UETOOLS. Whenever a UEDGE case is restored, UETOOLS evaluates the convergence without preconditioning to give a quick estimate of the status of the case. Here, the case is converged, as evident from the UETOOLS message.\n",
    "\n"
   ]
  },
  {
   "cell_type": "markdown",
   "id": "80b84abc-685c-4542-a1fb-74c17048a7b5",
   "metadata": {},
   "source": [
    "#### Restoring a UEDGE case from a save file\n",
    "Below is shown an example of a UEDGE case being restored from a save-file."
   ]
  },
  {
   "cell_type": "code",
   "execution_count": 4,
   "id": "421cc471-218d-4506-9b79-6b7b348825c2",
   "metadata": {},
   "outputs": [],
   "source": [
    "#c = Case('nc20.hdf5')"
   ]
  },
  {
   "cell_type": "markdown",
   "id": "eb464218-74e1-44c6-aa90-e835e19df963",
   "metadata": {},
   "source": [
    "Plotting 2D and dimensions\n",
    "Display use of:\n",
    "- nx, ny\n",
    "- shape\n",
    "- about\n",
    "- search\n",
    "- searchvarname\n",
    "\n",
    "- ixpt1\n",
    "- ixpt2\n",
    "- iysptrx\n",
    "- "
   ]
  },
  {
   "cell_type": "markdown",
   "id": "e79217af-2316-431a-b252-c3de497bf71f",
   "metadata": {},
   "source": [
    "As is evident from the above, restoring from a save-file is equivalent to restoring a save from an input file when using UETOOLS. Therefore, UEDGE cases can be transferred in a single file (barring any atomic and molecular rates, which are used when setting up the case).\n",
    "\n",
    "### Basic plotting using UETOOLS\n",
    "UETOOLS contains a wide array plotting tools for visualizing UEDGE results. Here, we will showcase some of the most central routines.\n",
    "\n",
    "#### Plotting the grid\n",
    "The grid function has a number of options that can be utilized to alter the style of the grid:"
   ]
  },
  {
   "cell_type": "code",
   "execution_count": 5,
   "id": "169033d4-d0b1-4117-95b0-0d994c779d7c",
   "metadata": {},
   "outputs": [],
   "source": [
    "#c.grid(linewidth=0.1, vessel=True, plates=True, platecolor=['gold','teal'], lcfs=True, lcfscolor='r', linecolor='b');"
   ]
  },
  {
   "cell_type": "markdown",
   "id": "29af2321-f587-4aa2-b0c7-387226912102",
   "metadata": {},
   "source": [
    "#### Plotting colored meshes\n",
    "Meshplots have a number of controls, in addition to those available to the grid function. Let's start by plotting the electron density."
   ]
  },
  {
   "cell_type": "code",
   "execution_count": 6,
   "id": "05de2921-fdf7-491b-8ae3-ee24fce59e51",
   "metadata": {},
   "outputs": [],
   "source": [
    "#c.plotmesh(c.get('ne'), xlim=(1, 1.75), ylim=(0,0.8), figsize=(7,5), zrange=(0,2e20), cmap='gist_heat');"
   ]
  },
  {
   "cell_type": "markdown",
   "id": "2c4d237d-8f50-4af6-b0be-63b0da0a5b0c",
   "metadata": {},
   "source": [
    "Here, the Case-method 'get' is used to retrieve the electron density data from variable 'ne' of the 'bbb' package. The get command is directly interchangeable with the variable, e.g. 'bbb.ne'.\n",
    "\n",
    "The heatmap can also be plotted on a logartihmic axis:"
   ]
  },
  {
   "cell_type": "code",
   "execution_count": 7,
   "id": "c999c774-dfae-48a8-8579-2ed46808ffa0",
   "metadata": {},
   "outputs": [],
   "source": [
    "#c.plotmesh(bbb.ne, log=True, xlim=(1, 1.75), ylim=(0,0.8), figsize=(7,5), zrange=(1e19,1e20), cmap='gist_heat');"
   ]
  },
  {
   "cell_type": "markdown",
   "id": "d7f25ea0-59c7-46c2-8cf8-f0b761280854",
   "metadata": {},
   "source": [
    "When running an interactive session, the keyword 'interactive' can be used to interactively interact with the figure (not available in Jupyter notebooks)."
   ]
  },
  {
   "cell_type": "code",
   "execution_count": 8,
   "id": "13be4296-949b-4477-93b5-fc5217896e4b",
   "metadata": {},
   "outputs": [],
   "source": [
    "#c.plotmesh(bbb.ne, interactive=True, log=True, xlim=(1, 1.75), ylim=(0,0.8), figsize=(7,5), zrange=(1e19,1e20), cmap='gist_heat');"
   ]
  },
  {
   "cell_type": "markdown",
   "id": "34c3494b-23c3-47f3-bbb5-538ff4979c15",
   "metadata": {},
   "source": [
    "UETOOLS makes a number of pre-defined mesh plots available to the user, where all plotmesh-options are available to the user:\n",
    "- ne2D\n",
    "- te2D\n",
    "- ni2D\n",
    "- ti2D\n",
    "- ng2D\n",
    "- tg2D\n",
    "\n",
    "#### Contour plots\n",
    "Here is shown an examples of plotting a contour of the electron temperature:"
   ]
  },
  {
   "cell_type": "code",
   "execution_count": 9,
   "id": "b3852fa2-009c-4229-83ab-8c43d14b7385",
   "metadata": {},
   "outputs": [],
   "source": [
    "#c.contour(c.get('te')/c.get('ev'), levels=[10,50], labels=False, xlim=(1, 1.75), ylim=(0,0.8));"
   ]
  },
  {
   "cell_type": "markdown",
   "id": "920156de-2bd5-4ff1-8faf-8433527b92c4",
   "metadata": {},
   "source": [
    "Here, Te has to be divided by the unit charge, since UEDGE evaluates the energy equation in Joules rather than eV.\n",
    "\n",
    "The 'levels' argument specifies the value of the levels to be plotted or, in the case of a single int, the number of levels. In order to better distinguish the levels, they can be plotted sucessively with different line styles:"
   ]
  },
  {
   "cell_type": "code",
   "execution_count": 10,
   "id": "ae582f99-8cbd-4f2c-ad86-7f110571d1ec",
   "metadata": {},
   "outputs": [],
   "source": [
    "#f=c.contour(c.get('te')/c.get('ev'), levels=[10], labels=False, xlim=(1, 1.75), ylim=(0,0.8));\n",
    "#c.contour(c.get('te')/c.get('ev'), levels=[50], labels=False, xlim=(1, 1.75), ylim=(0,0.8), ax=f, linestyles='--', color='r');"
   ]
  },
  {
   "cell_type": "markdown",
   "id": "ab83723c-4391-4683-8dc9-4c9c6e5df6e4",
   "metadata": {},
   "source": [
    "#### Visualizing flows using quiver plots\n",
    "When visualizing flows or velocities, quiver-plots are useful tools available in UETOOLS:"
   ]
  },
  {
   "cell_type": "code",
   "execution_count": 11,
   "id": "0430f930-4b33-4fd4-8ed7-0bdd05e79f20",
   "metadata": {},
   "outputs": [],
   "source": [
    "#c.quiver(c.get('fngx')[:,:,0], c.get('fngy')[:,:,0], uniformsize=True, xlim=(1, 1.75), ylim=(0,0.8), alpha=False);"
   ]
  },
  {
   "cell_type": "markdown",
   "id": "f54d938c-d6e6-40f3-a697-4dd6e8f6d169",
   "metadata": {},
   "source": [
    "Here, the function expects 2D arrays with dimensions (nx, ny). However, the displayed gaseous flows have a third index, corresponding to the gaseous species: thus, the arrays have been sliced to be compatible with the plotting routine. The same applies for all 2D plotting routines.\n",
    "\n",
    "#### Plotting streamlines\n",
    "Sometimes, it might be more convenient to analyze flows in terms of streamlines:\n"
   ]
  },
  {
   "cell_type": "code",
   "execution_count": 12,
   "id": "5a17527e-4f3f-4d05-817a-98500dafbcb7",
   "metadata": {},
   "outputs": [],
   "source": [
    "#c.streamline(c.get('fnix')[:,:,0], c.get('fniy')[:,:,0], linewidth=0.3, xlim=(1, 1.75), ylim=(0,0.8), density=1.5);"
   ]
  },
  {
   "cell_type": "markdown",
   "id": "34d9f72a-af8f-43f1-ae2c-4e16764af54a",
   "metadata": {},
   "source": [
    "#### Plotting target profiles\n",
    "UETOOLS provides a number of shorthand functions for plotting inner and outer target profiles quickly and conveniently:"
   ]
  },
  {
   "cell_type": "code",
   "execution_count": 15,
   "id": "0be5bb91-93d2-4004-96f8-cc3bf781fbc4",
   "metadata": {},
   "outputs": [
    {
     "data": {
      "text/plain": [
       "<matplotlib.legend.Legend at 0x111e792d0>"
      ]
     },
     "execution_count": 15,
     "metadata": {},
     "output_type": "execute_result"
    },
    {
     "data": {
      "image/png": "[encoded data removed]",
      "text/plain": [
       "<Figure size 700x500 with 1 Axes>"
      ]
     },
     "metadata": {},
     "output_type": "display_data"
    }
   ],
   "source": [
    "ne_t = c.neIT(color='k')\n",
    "c.neOT(color='r', ax = ne_t)\n",
    "ne_t.get_axes()[0].legend([\"Inner target\", \"Outer target\"])"
   ]
  }
 ],
 "metadata": {
  "kernelspec": {
   "display_name": "Python 3 (ipykernel)",
   "language": "python",
   "name": "python3"
  },
  "language_info": {
   "codemirror_mode": {
    "name": "ipython",
    "version": 3
   },
   "file_extension": ".py",
   "mimetype": "text/x-python",
   "name": "python",
   "nbconvert_exporter": "python",
   "pygments_lexer": "ipython3",
   "version": "3.11.4"
  }
 },
 "nbformat": 4,
 "nbformat_minor": 5
}
