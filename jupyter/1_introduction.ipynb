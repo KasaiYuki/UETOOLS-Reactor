{
 "cells": [
  {
   "cell_type": "markdown",
   "id": "37d4a9e2-93d4-4679-9327-5cd42296c680",
   "metadata": {},
   "source": [
    "## General UEDGE things\n",
    "Plotting 2D and dimensions\n",
    "Downloading/installing/building\n",
    "Recommend using pyenvs and pyenv-virtualvenvs\n",
    "\n",
    "Display use of:\n",
    "- nx, ny\n",
    "- Case.get\n",
    "- shape\n",
    "- about\n",
    "- search\n",
    "- searchvarname\n",
    "\n",
    "- ixpt1\n",
    "- ixpt2\n",
    "- iysptrx\n",
    "\n",
    "- Structure of ion arrays\n",
    "- Structure of gaseous arrays\n",
    "\n",
    "- Node structure\n",
    "\n",
    "- Save variables\n",
    "- Populating (UEDGE and Case.populate)\n",
    "\n",
    "- Saving and restoring\n",
    "- Tracking changes to inputs\n",
    "\n",
    "- Defining YAML variables to be saved\n",
    "\n",
    "\n",
    "\n",
    "# Getting started with the UEDGE Toolbox\n",
    "\n",
    "Welcome to the introduction of UETOOLS, short for the UEDGE Toolbox. The classes provided by UETOOLS interact with UEDGE on a fundamental level, and aims to provide the user with powerful tools to for running and processing UEDGE simulations. This guide will take you through the basics of UETOOLS. Some aspects of UEDGE functionality, important for understanding the functionality of the UETOOLS, will be presented briefly here, but more in-depth discussion of UEDGE itself is reserved for the UEDGE documentation itself. \n",
    "\n",
    "## TOC:\n",
    "* [Installing UETOOLS](#installing-uetools)\n",
    "* [Installing UEDGE](#installing-UEDGE)\n",
    "* [Structure of UETOOLS](#structure)\n",
    "\n",
    "## Installing UETOOLS<a class=\"anchor\" id=\"installing-uetools\"></a>\n",
    "Presently, UETOOLS can be installed by cloning the [UETOOLS GitHub repository](https://www.github.com/llnl/uetools) and including the location of UETOOLS in your \\$PATH variable. More install options are coming shortly.\n",
    "\n",
    "## Installing UEDGE<a class=\"anchor\" id=\"installing-uedge\"></a>\n",
    "UEDGE is a prerequisite for UETOOLS. Since UEDGE can be installed by pip, or built locally, it is not, however, a forced prerequisite for installing UETOOLS. E.g. the user will need to ensure a functioning version of UEDGE is available to the Python command prompt. The most straightforward way to install UEDGE is using pip install\n",
    "    pip install uedge\n",
    "For more information on installing UEDGE, consult the UEDGE manual.\n",
    "\n",
    "## Structure of UETOOLS<a class=\"anchor\" id=\"structure\"></a>\n",
    "UETOOLS provides the user with two primary classes for interacting with UEDGE case: the Case and Database classes. These are presented shhortly below.\n",
    "\n",
    "### The Case Class\n",
    "Case is the primary class in UETOOLS, and handles most of the setup of a UEDGE case, and provides an interface for creating YAML input files for UEDGE. The base Case class inherits methods from several classes, making it very modular and easy to patch to the individual user needs. The Case class itself primarily handles the exchange of information with UEDGE, such as changing or getting variable values, setting up a case based on the input file, and restoring saved solutions. Here follows a short description of the most commonly used classes, which Case inherits:\n",
    "\n",
    "- Caseplot: handles specific plotting, using the high-level plotting functions avilable in the Plot class.\n",
    "- Save: handles saving of data to UETOOLS save-files, compatible the with UEDGE restore function. The UETOOLS save-files also store additional data, such as grid data, and some commonly used derived variables. Thus, UETOOLS can restore UEDGE cases from save-files only, removing the need for separate input and grid files. Additionally, the saves can be used as data dumps as discussed later.\n",
    "- Solver: provides aliases for the UEDGE solvers through the Case class\n",
    "- PostProcessors: contains a number of vetted and approved post-processors for numerous UEDGE quantities\n",
    "\n",
    "### The Database Class\n",
    "Because only a single instance of UEDGE can be run in a Python prompt, UETOOLS provides a database class that can statically read data from UETOOLS save-files and compile them to databases that can be scanned/compared. Using a single Python prompt to restore many UEDGE cases in succession is to be avoided, as there may be issues with the grid sizes, or different setups can make modifications to variables which are not reset in subsequent files, making the results order-dependent. The database instead creates static UETOOLS Case objects that are stored in array, allowing data to be accessed for all cases stored, simultaneously.\n",
    "\n",
    "The use of databases is discussed in greater detail below.\n",
    "\n",
    "## Running UETOOLS for the first time\n",
    "When creating a Case object, UETOOLS checks whether a configuration file for UETOOLS is present. If no configuration file is present, a message is raised:"
   ]
  },
  {
   "cell_type": "code",
   "execution_count": 1,
   "id": "da03b7e2-6785-487d-ad7c-d556a5835b45",
   "metadata": {
    "deletable": false,
    "editable": false,
    "run_control": {
     "frozen": true
    }
   },
   "outputs": [
    {
     "name": "stdout",
     "output_type": "stream",
     "text": [
      "No UETOOLS config file found: Configure file by calling Case.CreateConfig()\n",
      "Alternatively, manually create the .uetoolsrc configuration YAML in your home directory.\n"
     ]
    }
   ],
   "source": [
    "from uetools import Case\n",
    "c=Case()"
   ]
  },
  {
   "cell_type": "markdown",
   "id": "db4d72d8-a635-4200-807d-ca097169ceb2",
   "metadata": {},
   "source": [
    "The configuration file can be created using UETOOLS:"
   ]
  },
  {
   "cell_type": "code",
   "execution_count": 15,
   "id": "96a4d0b9-d45f-4518-8129-86c6d4ba64ff",
   "metadata": {
    "deletable": false,
    "editable": false,
    "run_control": {
     "frozen": true
    }
   },
   "outputs": [
    {
     "name": "stdout",
     "output_type": "stream",
     "text": [
      "UEDGE config file not found!\n",
      "Create it at /Users/holm10? [y/n]\n"
     ]
    },
    {
     "name": "stdin",
     "output_type": "stream",
     "text": [
      " y\n"
     ]
    },
    {
     "name": "stdout",
     "output_type": "stream",
     "text": [
      "Define path to \"aphdir\":\n"
     ]
    },
    {
     "name": "stdin",
     "output_type": "stream",
     "text": [
      " ~/Documents/fusion/uedge/rates/aph\n"
     ]
    },
    {
     "name": "stdout",
     "output_type": "stream",
     "text": [
      "    Path defined successfully!\n",
      "Define path to \"apidir\":\n"
     ]
    },
    {
     "name": "stdin",
     "output_type": "stream",
     "text": [
      " ~/Documents/fusion/uedge/rates/api\n"
     ]
    },
    {
     "name": "stdout",
     "output_type": "stream",
     "text": [
      "    Path defined successfully!\n",
      "UEDGE config file /Users/holm10.uetoolsrc successfully created!\n"
     ]
    }
   ],
   "source": [
    "c.CreateConfig()"
   ]
  },
  {
   "cell_type": "markdown",
   "id": "026e66ec-0bf8-4078-ad5b-2cf820b72bf4",
   "metadata": {},
   "source": [
    "Alternativelly, the configuration file can be written manually into your home directory. If you would like to use UETOOLS without a configuration file, you can supress the startup message by creating an empty .uetoolsrc-file in your home directory.\n",
    "\n",
    "## UEDGE dimensions and arrays\n",
    "## The UEDGE grid\n",
    "### The X-point cut"
   ]
  },
  {
   "cell_type": "code",
   "execution_count": null,
   "id": "0afc24c6",
   "metadata": {},
   "outputs": [],
   "source": []
  }
 ],
 "metadata": {
  "kernelspec": {
   "display_name": "Python 3 (ipykernel)",
   "language": "python",
   "name": "python3"
  },
  "language_info": {
   "codemirror_mode": {
    "name": "ipython",
    "version": 3
   },
   "file_extension": ".py",
   "mimetype": "text/x-python",
   "name": "python",
   "nbconvert_exporter": "python",
   "pygments_lexer": "ipython3",
   "version": "3.11.4"
  }
 },
 "nbformat": 4,
 "nbformat_minor": 5
}
